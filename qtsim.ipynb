{
 "cells": [
  {
   "cell_type": "code",
   "execution_count": 14,
   "metadata": {},
   "outputs": [],
   "source": [
    "using LinearAlgebra\n",
    "using DataFrames\n",
    "using CSV\n",
    "using Plots\n",
    "include(\"structs.jl\")\n",
    "include(\"trees.jl\")\n",
    "include(\"sourceQt.jl\")\n",
    "include(\"sourceCl.jl\");"
   ]
  },
  {
   "cell_type": "code",
   "execution_count": null,
   "metadata": {},
   "outputs": [],
   "source": [
    "function do_all_paulimeasurement(ms, chann, qt)\n",
    "    Vectors = [[1,0,0,0],[0,1,0,0],[0,0,1,0],[0,0,0,1],\n",
    "            [1,1,0,0],[1,0,1,0],[1,0,0,1],[0,1,1,0],[0,1,0,1],[0,0,1,1],\n",
    "            [1,1,1,0],[1,1,0,1],[1,0,1,1],[0,1,1,1],[1,1,1,1]]\n",
    "    States = [state_vector(i./sqrt(sum(i)), \"Z\") for i in Vectors];\n",
    "    Measures = [pauli_proj_meas[i][j] for (i,j) in zip(ms, qt)]\n",
    "    ch = channel(kron(gates[chann], Matrix(I, 2, 2)), \"Z\")\n",
    "    n = 100000\n",
    "    file = \"/home/users/ciolli/Desktop/Code/Rotations/ch-$(chann)_measurement-$(ms[1])$(qt[1])_$(ms[2])$(qt[2])_$(ms[3])$(qt[3])_$(ms[4])$(qt[4]).csv\"\n",
    "    df = DataFrame()\n",
    "    df.θ = Float64[]\n",
    "    df.Initial_State = [];\n",
    "\n",
    "    for state in States\n",
    "        Qt = QT_Dynamical_model([[-1,1]],[[-1,1]],state, ch, Measures)\n",
    "        Source, Target = simulation(Qt, n)\n",
    "        T = Time_Series(n, [Qt.x;Qt.x], [Qt.y;Qt.y], Target, Source, Qt)\n",
    "        push!(df.TE, TE(2, 1, 1 ,T, Freq)[1].value)\n",
    "        push!(df.Initial_State, state.vec)\n",
    "    end\n",
    "    \n",
    "    CSV.write(file, df);\n",
    "end"
   ]
  },
  {
   "cell_type": "code",
   "execution_count": 22,
   "metadata": {},
   "outputs": [],
   "source": [
    "Vectors = [[1,0,0,0],[0,1,0,0],[0,0,1,0],[0,0,0,1],\n",
    "[1,1,0,0],[1,0,1,0],[1,0,0,1],[0,1,1,0],[0,1,0,1],[0,0,1,1],\n",
    "[1,1,1,0],[1,1,0,1],[1,0,1,1],[0,1,1,1],[1,1,1,1]]\n",
    "States = [state_vector(i./sqrt(sum(i)), \"Z\") for i in Vectors];\n",
    "Circuit = [pauli_proj_meas[\"Mx\"][\"A\"], pauli_proj_meas[\"Mz\"][\"B\"], channel(kron(gates[\"PauliX\"], Matrix(I,2,2)), \"Z\"),pauli_proj_meas[\"Mz\"][\"A\"], pauli_proj_meas[\"Mz\"][\"B\"]];"
   ]
  },
  {
   "cell_type": "code",
   "execution_count": 23,
   "metadata": {},
   "outputs": [
    {
     "data": {
      "text/plain": [
       "Binary_tree(1, nothing, density_prob(1.0, ComplexF64[1.0 + 0.0im 0.0 + 0.0im 0.0 + 0.0im 0.0 + 0.0im; 0.0 + 0.0im 0.0 + 0.0im 0.0 + 0.0im 0.0 + 0.0im; 0.0 + 0.0im 0.0 + 0.0im 0.0 + 0.0im 0.0 + 0.0im; 0.0 + 0.0im 0.0 + 0.0im 0.0 + 0.0im 0.0 + 0.0im], 0.0), Union{Nothing, Binary_tree}[Binary_tree(2, Binary_tree(#= circular reference @-3 =#), density_prob(0.4999999999999998, ComplexF64[0.5 + 0.0im 0.0 + 0.0im -0.5 + 0.0im 0.0 + 0.0im; 0.0 + 0.0im 0.0 + 0.0im 0.0 + 0.0im 0.0 + 0.0im; -0.5 + 0.0im 0.0 + 0.0im 0.5 + 0.0im 0.0 + 0.0im; 0.0 + 0.0im 0.0 + 0.0im 0.0 + 0.0im 0.0 + 0.0im], -1.0), Union{Nothing, Binary_tree}[Binary_tree(4, Binary_tree(#= circular reference @-3 =#), density_prob(0.0, ComplexF64[0.0 + 0.0im 0.0 + 0.0im 0.0 + 0.0im 0.0 + 0.0im; 0.0 + 0.0im 0.0 + 0.0im 0.0 + 0.0im 0.0 + 0.0im; 0.0 + 0.0im 0.0 + 0.0im 0.0 + 0.0im 0.0 + 0.0im; 0.0 + 0.0im 0.0 + 0.0im 0.0 + 0.0im 0.0 + 0.0im], 0.0), Union{Nothing, Binary_tree}[Binary_tree(8, Binary_tree(#= circular reference @-3 =#), density_prob(1.0, ComplexF64[0.0 + 0.0im 0.0 + 0.0im 0.0 + 0.0im 0.0 + 0.0im; 0.0 + 0.0im 0.0 + 0.0im 0.0 + 0.0im 0.0 + 0.0im; 0.0 + 0.0im 0.0 + 0.0im 0.0 + 0.0im 0.0 + 0.0im; 0.0 + 0.0im 0.0 + 0.0im 0.0 + 0.0im 0.0 + 0.0im], 0.0), Union{Nothing, Binary_tree}[Binary_tree(16, Binary_tree(#= circular reference @-3 =#), density_prob(0.0, ComplexF64[0.0 + 0.0im 0.0 + 0.0im 0.0 + 0.0im 0.0 + 0.0im; 0.0 + 0.0im 0.0 + 0.0im 0.0 + 0.0im 0.0 + 0.0im; 0.0 + 0.0im 0.0 + 0.0im 0.0 + 0.0im 0.0 + 0.0im; 0.0 + 0.0im 0.0 + 0.0im 0.0 + 0.0im 0.0 + 0.0im], 0.0), Union{Nothing, Binary_tree}[Binary_tree(32, Binary_tree(#= circular reference @-3 =#), density_prob(0.0, ComplexF64[0.0 + 0.0im 0.0 + 0.0im 0.0 + 0.0im 0.0 + 0.0im; 0.0 + 0.0im 0.0 + 0.0im 0.0 + 0.0im 0.0 + 0.0im; 0.0 + 0.0im 0.0 + 0.0im 0.0 + 0.0im 0.0 + 0.0im; 0.0 + 0.0im 0.0 + 0.0im 0.0 + 0.0im 0.0 + 0.0im], 0.0), Union{Nothing, Binary_tree}[nothing, nothing]), Binary_tree(33, Binary_tree(#= circular reference @-3 =#), density_prob(0.0, ComplexF64[0.0 + 0.0im 0.0 + 0.0im 0.0 + 0.0im 0.0 + 0.0im; 0.0 + 0.0im 0.0 + 0.0im 0.0 + 0.0im 0.0 + 0.0im; 0.0 + 0.0im 0.0 + 0.0im 0.0 + 0.0im 0.0 + 0.0im; 0.0 + 0.0im 0.0 + 0.0im 0.0 + 0.0im 0.0 + 0.0im], 0.0), Union{Nothing, Binary_tree}[nothing, nothing])]), Binary_tree(17, Binary_tree(#= circular reference @-3 =#), density_prob(0.0, ComplexF64[0.0 + 0.0im 0.0 + 0.0im 0.0 + 0.0im 0.0 + 0.0im; 0.0 + 0.0im 0.0 + 0.0im 0.0 + 0.0im 0.0 + 0.0im; 0.0 + 0.0im 0.0 + 0.0im 0.0 + 0.0im 0.0 + 0.0im; 0.0 + 0.0im 0.0 + 0.0im 0.0 + 0.0im 0.0 + 0.0im], 0.0), Union{Nothing, Binary_tree}[Binary_tree(34, Binary_tree(#= circular reference @-3 =#), density_prob(0.0, ComplexF64[0.0 + 0.0im 0.0 + 0.0im 0.0 + 0.0im 0.0 + 0.0im; 0.0 + 0.0im 0.0 + 0.0im 0.0 + 0.0im 0.0 + 0.0im; 0.0 + 0.0im 0.0 + 0.0im 0.0 + 0.0im 0.0 + 0.0im; 0.0 + 0.0im 0.0 + 0.0im 0.0 + 0.0im 0.0 + 0.0im], 0.0), Union{Nothing, Binary_tree}[nothing, nothing]), Binary_tree(35, Binary_tree(#= circular reference @-3 =#), density_prob(0.0, ComplexF64[0.0 + 0.0im 0.0 + 0.0im 0.0 + 0.0im 0.0 + 0.0im; 0.0 + 0.0im 0.0 + 0.0im 0.0 + 0.0im 0.0 + 0.0im; 0.0 + 0.0im 0.0 + 0.0im 0.0 + 0.0im 0.0 + 0.0im; 0.0 + 0.0im 0.0 + 0.0im 0.0 + 0.0im 0.0 + 0.0im], 0.0), Union{Nothing, Binary_tree}[nothing, nothing])])]), Binary_tree(9, Binary_tree(#= circular reference @-3 =#), density_prob(0.0, ComplexF64[0.0 + 0.0im 0.0 + 0.0im 0.0 + 0.0im 0.0 + 0.0im; 0.0 + 0.0im 0.0 + 0.0im 0.0 + 0.0im 0.0 + 0.0im; 0.0 + 0.0im 0.0 + 0.0im 0.0 + 0.0im 0.0 + 0.0im; 0.0 + 0.0im 0.0 + 0.0im 0.0 + 0.0im 0.0 + 0.0im], 0.0), Union{Nothing, Binary_tree}[Binary_tree(18, Binary_tree(#= circular reference @-3 =#), density_prob(0.0, ComplexF64[0.0 + 0.0im 0.0 + 0.0im 0.0 + 0.0im 0.0 + 0.0im; 0.0 + 0.0im 0.0 + 0.0im 0.0 + 0.0im 0.0 + 0.0im; 0.0 + 0.0im 0.0 + 0.0im 0.0 + 0.0im 0.0 + 0.0im; 0.0 + 0.0im 0.0 + 0.0im 0.0 + 0.0im 0.0 + 0.0im], 0.0), Union{Nothing, Binary_tree}[Binary_tree(36, Binary_tree(#= circular reference @-3 =#), density_prob(0.0, ComplexF64[0.0 + 0.0im 0.0 + 0.0im 0.0 + 0.0im 0.0 + 0.0im; 0.0 + 0.0im 0.0 + 0.0im 0.0 + 0.0im 0.0 + 0.0im; 0.0 + 0.0im 0.0 + 0.0im 0.0 + 0.0im 0.0 + 0.0im; 0.0 + 0.0im 0.0 + 0.0im 0.0 + 0.0im 0.0 + 0.0im], 0.0), Union{Nothing, Binary_tree}[nothing, nothing]), Binary_tree(37, Binary_tree(#= circular reference @-3 =#), density_prob(0.0, ComplexF64[0.0 + 0.0im 0.0 + 0.0im 0.0 + 0.0im 0.0 + 0.0im; 0.0 + 0.0im 0.0 + 0.0im 0.0 + 0.0im 0.0 + 0.0im; 0.0 + 0.0im 0.0 + 0.0im 0.0 + 0.0im 0.0 + 0.0im; 0.0 + 0.0im 0.0 + 0.0im 0.0 + 0.0im 0.0 + 0.0im], 0.0), Union{Nothing, Binary_tree}[nothing, nothing])]), Binary_tree(19, Binary_tree(#= circular reference @-3 =#), density_prob(0.0, ComplexF64[0.0 + 0.0im 0.0 + 0.0im 0.0 + 0.0im 0.0 + 0.0im; 0.0 + 0.0im 0.0 + 0.0im 0.0 + 0.0im 0.0 + 0.0im; 0.0 + 0.0im 0.0 + 0.0im 0.0 + 0.0im 0.0 + 0.0im; 0.0 + 0.0im 0.0 + 0.0im 0.0 + 0.0im 0.0 + 0.0im], 0.0), Union{Nothing, Binary_tree}[Binary_tree(38, Binary_tree(#= circular reference @-3 =#), density_prob(0.0, ComplexF64[0.0 + 0.0im 0.0 + 0.0im 0.0 + 0.0im 0.0 + 0.0im; 0.0 + 0.0im 0.0 + 0.0im 0.0 + 0.0im 0.0 + 0.0im; 0.0 + 0.0im 0.0 + 0.0im 0.0 + 0.0im 0.0 + 0.0im; 0.0 + 0.0im 0.0 + 0.0im 0.0 + 0.0im 0.0 + 0.0im], 0.0), Union{Nothing, Binary_tree}[nothing, nothing]), Binary_tree(39, Binary_tree(#= circular reference @-3 =#), density_prob(0.0, ComplexF64[0.0 + 0.0im 0.0 + 0.0im 0.0 + 0.0im 0.0 + 0.0im; 0.0 + 0.0im 0.0 + 0.0im 0.0 + 0.0im 0.0 + 0.0im; 0.0 + 0.0im 0.0 + 0.0im 0.0 + 0.0im 0.0 + 0.0im; 0.0 + 0.0im 0.0 + 0.0im 0.0 + 0.0im 0.0 + 0.0im], 0.0), Union{Nothing, Binary_tree}[nothing, nothing])])])]), Binary_tree(5, Binary_tree(#= circular reference @-3 =#), density_prob(1.0, ComplexF64[0.5 + 0.0im 0.0 + 0.0im -0.5 + 0.0im 0.0 + 0.0im; 0.0 + 0.0im 0.0 + 0.0im 0.0 + 0.0im 0.0 + 0.0im; -0.5 + 0.0im 0.0 + 0.0im 0.5 + 0.0im 0.0 + 0.0im; 0.0 + 0.0im 0.0 + 0.0im 0.0 + 0.0im 0.0 + 0.0im], 1.0), Union{Nothing, Binary_tree}[Binary_tree(10, Binary_tree(#= circular reference @-3 =#), density_prob(1.0, ComplexF64[0.5 + 0.0im 0.0 + 0.0im -0.5 - 0.0im 0.0 + 0.0im; 0.0 + 0.0im 0.0 + 0.0im 0.0 + 0.0im 0.0 + 0.0im; -0.5 - 0.0im 0.0 + 0.0im 0.5 + 0.0im 0.0 + 0.0im; 0.0 + 0.0im 0.0 + 0.0im 0.0 + 0.0im 0.0 + 0.0im], 0.0), Union{Nothing, Binary_tree}[Binary_tree(20, Binary_tree(#= circular reference @-3 =#), density_prob(0.5, ComplexF64[0.0 + 0.0im 0.0 + 0.0im 0.0 + 0.0im 0.0 + 0.0im; 0.0 + 0.0im 0.0 + 0.0im 0.0 + 0.0im 0.0 + 0.0im; 0.0 + 0.0im 0.0 + 0.0im 1.0 + 0.0im 0.0 + 0.0im; 0.0 + 0.0im 0.0 + 0.0im 0.0 + 0.0im 0.0 + 0.0im], -1.0), Union{Nothing, Binary_tree}[Binary_tree(40, Binary_tree(#= circular reference @-3 =#), density_prob(0.0, ComplexF64[0.0 + 0.0im 0.0 + 0.0im 0.0 + 0.0im 0.0 + 0.0im; 0.0 + 0.0im 0.0 + 0.0im 0.0 + 0.0im 0.0 + 0.0im; 0.0 + 0.0im 0.0 + 0.0im 0.0 + 0.0im 0.0 + 0.0im; 0.0 + 0.0im 0.0 + 0.0im 0.0 + 0.0im 0.0 + 0.0im], 0.0), Union{Nothing, Binary_tree}[nothing, nothing]), Binary_tree(41, Binary_tree(#= circular reference @-3 =#), density_prob(1.0, ComplexF64[0.0 + 0.0im 0.0 + 0.0im 0.0 + 0.0im 0.0 + 0.0im; 0.0 + 0.0im 0.0 + 0.0im 0.0 + 0.0im 0.0 + 0.0im; 0.0 + 0.0im 0.0 + 0.0im 1.0 + 0.0im 0.0 + 0.0im; 0.0 + 0.0im 0.0 + 0.0im 0.0 + 0.0im 0.0 + 0.0im], 1.0), Union{Nothing, Binary_tree}[nothing, nothing])]), Binary_tree(21, Binary_tree(#= circular reference @-3 =#), density_prob(0.5, ComplexF64[1.0 + 0.0im 0.0 + 0.0im 0.0 + 0.0im 0.0 + 0.0im; 0.0 + 0.0im 0.0 + 0.0im 0.0 + 0.0im 0.0 + 0.0im; 0.0 + 0.0im 0.0 + 0.0im 0.0 + 0.0im 0.0 + 0.0im; 0.0 + 0.0im 0.0 + 0.0im 0.0 + 0.0im 0.0 + 0.0im], 1.0), Union{Nothing, Binary_tree}[Binary_tree(42, Binary_tree(#= circular reference @-3 =#), density_prob(0.0, ComplexF64[0.0 + 0.0im 0.0 + 0.0im 0.0 + 0.0im 0.0 + 0.0im; 0.0 + 0.0im 0.0 + 0.0im 0.0 + 0.0im 0.0 + 0.0im; 0.0 + 0.0im 0.0 + 0.0im 0.0 + 0.0im 0.0 + 0.0im; 0.0 + 0.0im 0.0 + 0.0im 0.0 + 0.0im 0.0 + 0.0im], 0.0), Union{Nothing, Binary_tree}[nothing, nothing]), Binary_tree(43, Binary_tree(#= circular reference @-3 =#), density_prob(1.0, ComplexF64[1.0 + 0.0im 0.0 + 0.0im 0.0 + 0.0im 0.0 + 0.0im; 0.0 + 0.0im 0.0 + 0.0im 0.0 + 0.0im 0.0 + 0.0im; 0.0 + 0.0im 0.0 + 0.0im 0.0 + 0.0im 0.0 + 0.0im; 0.0 + 0.0im 0.0 + 0.0im 0.0 + 0.0im 0.0 + 0.0im], 1.0), Union{Nothing, Binary_tree}[nothing, nothing])])]), Binary_tree(11, Binary_tree(#= circular reference @-3 =#), density_prob(0.0, ComplexF64[0.5 + 0.0im 0.0 + 0.0im -0.5 - 0.0im 0.0 + 0.0im; 0.0 + 0.0im 0.0 + 0.0im 0.0 + 0.0im 0.0 + 0.0im; -0.5 - 0.0im 0.0 + 0.0im 0.5 + 0.0im 0.0 + 0.0im; 0.0 + 0.0im 0.0 + 0.0im 0.0 + 0.0im 0.0 + 0.0im], 0.0), Union{Nothing, Binary_tree}[Binary_tree(22, Binary_tree(#= circular reference @-3 =#), density_prob(0.5, ComplexF64[0.0 + 0.0im 0.0 + 0.0im 0.0 + 0.0im 0.0 + 0.0im; 0.0 + 0.0im 0.0 + 0.0im 0.0 + 0.0im 0.0 + 0.0im; 0.0 + 0.0im 0.0 + 0.0im 1.0 + 0.0im 0.0 + 0.0im; 0.0 + 0.0im 0.0 + 0.0im 0.0 + 0.0im 0.0 + 0.0im], -1.0), Union{Nothing, Binary_tree}[Binary_tree(44, Binary_tree(#= circular reference @-3 =#), density_prob(0.0, ComplexF64[0.0 + 0.0im 0.0 + 0.0im 0.0 + 0.0im 0.0 + 0.0im; 0.0 + 0.0im 0.0 + 0.0im 0.0 + 0.0im 0.0 + 0.0im; 0.0 + 0.0im 0.0 + 0.0im 0.0 + 0.0im 0.0 + 0.0im; 0.0 + 0.0im 0.0 + 0.0im 0.0 + 0.0im 0.0 + 0.0im], 0.0), Union{Nothing, Binary_tree}[nothing, nothing]), Binary_tree(45, Binary_tree(#= circular reference @-3 =#), density_prob(1.0, ComplexF64[0.0 + 0.0im 0.0 + 0.0im 0.0 + 0.0im 0.0 + 0.0im; 0.0 + 0.0im 0.0 + 0.0im 0.0 + 0.0im 0.0 + 0.0im; 0.0 + 0.0im 0.0 + 0.0im 1.0 + 0.0im 0.0 + 0.0im; 0.0 + 0.0im 0.0 + 0.0im 0.0 + 0.0im 0.0 + 0.0im], 1.0), Union{Nothing, Binary_tree}[nothing, nothing])]), Binary_tree(23, Binary_tree(#= circular reference @-3 =#), density_prob(0.5, ComplexF64[1.0 + 0.0im 0.0 + 0.0im 0.0 + 0.0im 0.0 + 0.0im; 0.0 + 0.0im 0.0 + 0.0im 0.0 + 0.0im 0.0 + 0.0im; 0.0 + 0.0im 0.0 + 0.0im 0.0 + 0.0im 0.0 + 0.0im; 0.0 + 0.0im 0.0 + 0.0im 0.0 + 0.0im 0.0 + 0.0im], 1.0), Union{Nothing, Binary_tree}[Binary_tree(46, Binary_tree(#= circular reference @-3 =#), density_prob(0.0, ComplexF64[0.0 + 0.0im 0.0 + 0.0im 0.0 + 0.0im 0.0 + 0.0im; 0.0 + 0.0im 0.0 + 0.0im 0.0 + 0.0im 0.0 + 0.0im; 0.0 + 0.0im 0.0 + 0.0im 0.0 + 0.0im 0.0 + 0.0im; 0.0 + 0.0im 0.0 + 0.0im 0.0 + 0.0im 0.0 + 0.0im], 0.0), Union{Nothing, Binary_tree}[nothing, nothing]), Binary_tree(47, Binary_tree(#= circular reference @-3 =#), density_prob(1.0, ComplexF64[1.0 + 0.0im 0.0 + 0.0im 0.0 + 0.0im 0.0 + 0.0im; 0.0 + 0.0im 0.0 + 0.0im 0.0 + 0.0im 0.0 + 0.0im; 0.0 + 0.0im 0.0 + 0.0im 0.0 + 0.0im 0.0 + 0.0im; 0.0 + 0.0im 0.0 + 0.0im 0.0 + 0.0im 0.0 + 0.0im], 1.0), Union{Nothing, Binary_tree}[nothing, nothing])])])])]), Binary_tree(3, Binary_tree(#= circular reference @-3 =#), density_prob(0.4999999999999998, ComplexF64[0.5 + 0.0im 0.0 + 0.0im 0.5 + 0.0im 0.0 + 0.0im; 0.0 + 0.0im 0.0 + 0.0im 0.0 + 0.0im 0.0 + 0.0im; 0.5 + 0.0im 0.0 + 0.0im 0.5 + 0.0im 0.0 + 0.0im; 0.0 + 0.0im 0.0 + 0.0im 0.0 + 0.0im 0.0 + 0.0im], 1.0), Union{Nothing, Binary_tree}[Binary_tree(6, Binary_tree(#= circular reference @-3 =#), density_prob(0.0, ComplexF64[0.0 + 0.0im 0.0 + 0.0im 0.0 + 0.0im 0.0 + 0.0im; 0.0 + 0.0im 0.0 + 0.0im 0.0 + 0.0im 0.0 + 0.0im; 0.0 + 0.0im 0.0 + 0.0im 0.0 + 0.0im 0.0 + 0.0im; 0.0 + 0.0im 0.0 + 0.0im 0.0 + 0.0im 0.0 + 0.0im], 0.0), Union{Nothing, Binary_tree}[Binary_tree(12, Binary_tree(#= circular reference @-3 =#), density_prob(1.0, ComplexF64[0.0 + 0.0im 0.0 + 0.0im 0.0 + 0.0im 0.0 + 0.0im; 0.0 + 0.0im 0.0 + 0.0im 0.0 + 0.0im 0.0 + 0.0im; 0.0 + 0.0im 0.0 + 0.0im 0.0 + 0.0im 0.0 + 0.0im; 0.0 + 0.0im 0.0 + 0.0im 0.0 + 0.0im 0.0 + 0.0im], 0.0), Union{Nothing, Binary_tree}[Binary_tree(24, Binary_tree(#= circular reference @-3 =#), density_prob(0.0, ComplexF64[0.0 + 0.0im 0.0 + 0.0im 0.0 + 0.0im 0.0 + 0.0im; 0.0 + 0.0im 0.0 + 0.0im 0.0 + 0.0im 0.0 + 0.0im; 0.0 + 0.0im 0.0 + 0.0im 0.0 + 0.0im 0.0 + 0.0im; 0.0 + 0.0im 0.0 + 0.0im 0.0 + 0.0im 0.0 + 0.0im], 0.0), Union{Nothing, Binary_tree}[Binary_tree(48, Binary_tree(#= circular reference @-3 =#), density_prob(0.0, ComplexF64[0.0 + 0.0im 0.0 + 0.0im 0.0 + 0.0im 0.0 + 0.0im; 0.0 + 0.0im 0.0 + 0.0im 0.0 + 0.0im 0.0 + 0.0im; 0.0 + 0.0im 0.0 + 0.0im 0.0 + 0.0im 0.0 + 0.0im; 0.0 + 0.0im 0.0 + 0.0im 0.0 + 0.0im 0.0 + 0.0im], 0.0), Union{Nothing, Binary_tree}[nothing, nothing]), Binary_tree(49, Binary_tree(#= circular reference @-3 =#), density_prob(0.0, ComplexF64[0.0 + 0.0im 0.0 + 0.0im 0.0 + 0.0im 0.0 + 0.0im; 0.0 + 0.0im 0.0 + 0.0im 0.0 + 0.0im 0.0 + 0.0im; 0.0 + 0.0im 0.0 + 0.0im 0.0 + 0.0im 0.0 + 0.0im; 0.0 + 0.0im 0.0 + 0.0im 0.0 + 0.0im 0.0 + 0.0im], 0.0), Union{Nothing, Binary_tree}[nothing, nothing])]), Binary_tree(25, Binary_tree(#= circular reference @-3 =#), density_prob(0.0, ComplexF64[0.0 + 0.0im 0.0 + 0.0im 0.0 + 0.0im 0.0 + 0.0im; 0.0 + 0.0im 0.0 + 0.0im 0.0 + 0.0im 0.0 + 0.0im; 0.0 + 0.0im 0.0 + 0.0im 0.0 + 0.0im 0.0 + 0.0im; 0.0 + 0.0im 0.0 + 0.0im 0.0 + 0.0im 0.0 + 0.0im], 0.0), Union{Nothing, Binary_tree}[Binary_tree(50, Binary_tree(#= circular reference @-3 =#), density_prob(0.0, ComplexF64[0.0 + 0.0im 0.0 + 0.0im 0.0 + 0.0im 0.0 + 0.0im; 0.0 + 0.0im 0.0 + 0.0im 0.0 + 0.0im 0.0 + 0.0im; 0.0 + 0.0im 0.0 + 0.0im 0.0 + 0.0im 0.0 + 0.0im; 0.0 + 0.0im 0.0 + 0.0im 0.0 + 0.0im 0.0 + 0.0im], 0.0), Union{Nothing, Binary_tree}[nothing, nothing]), Binary_tree(51, Binary_tree(#= circular reference @-3 =#), density_prob(0.0, ComplexF64[0.0 + 0.0im 0.0 + 0.0im 0.0 + 0.0im 0.0 + 0.0im; 0.0 + 0.0im 0.0 + 0.0im 0.0 + 0.0im 0.0 + 0.0im; 0.0 + 0.0im 0.0 + 0.0im 0.0 + 0.0im 0.0 + 0.0im; 0.0 + 0.0im 0.0 + 0.0im 0.0 + 0.0im 0.0 + 0.0im], 0.0), Union{Nothing, Binary_tree}[nothing, nothing])])]), Binary_tree(13, Binary_tree(#= circular reference @-3 =#), density_prob(0.0, ComplexF64[0.0 + 0.0im 0.0 + 0.0im 0.0 + 0.0im 0.0 + 0.0im; 0.0 + 0.0im 0.0 + 0.0im 0.0 + 0.0im 0.0 + 0.0im; 0.0 + 0.0im 0.0 + 0.0im 0.0 + 0.0im 0.0 + 0.0im; 0.0 + 0.0im 0.0 + 0.0im 0.0 + 0.0im 0.0 + 0.0im], 0.0), Union{Nothing, Binary_tree}[Binary_tree(26, Binary_tree(#= circular reference @-3 =#), density_prob(0.0, ComplexF64[0.0 + 0.0im 0.0 + 0.0im 0.0 + 0.0im 0.0 + 0.0im; 0.0 + 0.0im 0.0 + 0.0im 0.0 + 0.0im 0.0 + 0.0im; 0.0 + 0.0im 0.0 + 0.0im 0.0 + 0.0im 0.0 + 0.0im; 0.0 + 0.0im 0.0 + 0.0im 0.0 + 0.0im 0.0 + 0.0im], 0.0), Union{Nothing, Binary_tree}[Binary_tree(52, Binary_tree(#= circular reference @-3 =#), density_prob(0.0, ComplexF64[0.0 + 0.0im 0.0 + 0.0im 0.0 + 0.0im 0.0 + 0.0im; 0.0 + 0.0im 0.0 + 0.0im 0.0 + 0.0im 0.0 + 0.0im; 0.0 + 0.0im 0.0 + 0.0im 0.0 + 0.0im 0.0 + 0.0im; 0.0 + 0.0im 0.0 + 0.0im 0.0 + 0.0im 0.0 + 0.0im], 0.0), Union{Nothing, Binary_tree}[nothing, nothing]), Binary_tree(53, Binary_tree(#= circular reference @-3 =#), density_prob(0.0, ComplexF64[0.0 + 0.0im 0.0 + 0.0im 0.0 + 0.0im 0.0 + 0.0im; 0.0 + 0.0im 0.0 + 0.0im 0.0 + 0.0im 0.0 + 0.0im; 0.0 + 0.0im 0.0 + 0.0im 0.0 + 0.0im 0.0 + 0.0im; 0.0 + 0.0im 0.0 + 0.0im 0.0 + 0.0im 0.0 + 0.0im], 0.0), Union{Nothing, Binary_tree}[nothing, nothing])]), Binary_tree(27, Binary_tree(#= circular reference @-3 =#), density_prob(0.0, ComplexF64[0.0 + 0.0im 0.0 + 0.0im 0.0 + 0.0im 0.0 + 0.0im; 0.0 + 0.0im 0.0 + 0.0im 0.0 + 0.0im 0.0 + 0.0im; 0.0 + 0.0im 0.0 + 0.0im 0.0 + 0.0im 0.0 + 0.0im; 0.0 + 0.0im 0.0 + 0.0im 0.0 + 0.0im 0.0 + 0.0im], 0.0), Union{Nothing, Binary_tree}[Binary_tree(54, Binary_tree(#= circular reference @-3 =#), density_prob(0.0, ComplexF64[0.0 + 0.0im 0.0 + 0.0im 0.0 + 0.0im 0.0 + 0.0im; 0.0 + 0.0im 0.0 + 0.0im 0.0 + 0.0im 0.0 + 0.0im; 0.0 + 0.0im 0.0 + 0.0im 0.0 + 0.0im 0.0 + 0.0im; 0.0 + 0.0im 0.0 + 0.0im 0.0 + 0.0im 0.0 + 0.0im], 0.0), Union{Nothing, Binary_tree}[nothing, nothing]), Binary_tree(55, Binary_tree(#= circular reference @-3 =#), density_prob(0.0, ComplexF64[0.0 + 0.0im 0.0 + 0.0im 0.0 + 0.0im 0.0 + 0.0im; 0.0 + 0.0im 0.0 + 0.0im 0.0 + 0.0im 0.0 + 0.0im; 0.0 + 0.0im 0.0 + 0.0im 0.0 + 0.0im 0.0 + 0.0im; 0.0 + 0.0im 0.0 + 0.0im 0.0 + 0.0im 0.0 + 0.0im], 0.0), Union{Nothing, Binary_tree}[nothing, nothing])])])]), Binary_tree(7, Binary_tree(#= circular reference @-3 =#), density_prob(1.0, ComplexF64[0.5 + 0.0im 0.0 + 0.0im 0.5 + 0.0im 0.0 + 0.0im; 0.0 + 0.0im 0.0 + 0.0im 0.0 + 0.0im 0.0 + 0.0im; 0.5 + 0.0im 0.0 + 0.0im 0.5 + 0.0im 0.0 + 0.0im; 0.0 + 0.0im 0.0 + 0.0im 0.0 + 0.0im 0.0 + 0.0im], 1.0), Union{Nothing, Binary_tree}[Binary_tree(14, Binary_tree(#= circular reference @-3 =#), density_prob(1.0, ComplexF64[0.5 + 0.0im 0.0 + 0.0im 0.5 + 0.0im 0.0 + 0.0im; 0.0 + 0.0im 0.0 + 0.0im 0.0 + 0.0im 0.0 + 0.0im; 0.5 + 0.0im 0.0 + 0.0im 0.5 + 0.0im 0.0 + 0.0im; 0.0 + 0.0im 0.0 + 0.0im 0.0 + 0.0im 0.0 + 0.0im], 0.0), Union{Nothing, Binary_tree}[Binary_tree(28, Binary_tree(#= circular reference @-3 =#), density_prob(0.5, ComplexF64[0.0 + 0.0im 0.0 + 0.0im 0.0 + 0.0im 0.0 + 0.0im; 0.0 + 0.0im 0.0 + 0.0im 0.0 + 0.0im 0.0 + 0.0im; 0.0 + 0.0im 0.0 + 0.0im 1.0 + 0.0im 0.0 + 0.0im; 0.0 + 0.0im 0.0 + 0.0im 0.0 + 0.0im 0.0 + 0.0im], -1.0), Union{Nothing, Binary_tree}[Binary_tree(56, Binary_tree(#= circular reference @-3 =#), density_prob(0.0, ComplexF64[0.0 + 0.0im 0.0 + 0.0im 0.0 + 0.0im 0.0 + 0.0im; 0.0 + 0.0im 0.0 + 0.0im 0.0 + 0.0im 0.0 + 0.0im; 0.0 + 0.0im 0.0 + 0.0im 0.0 + 0.0im 0.0 + 0.0im; 0.0 + 0.0im 0.0 + 0.0im 0.0 + 0.0im 0.0 + 0.0im], 0.0), Union{Nothing, Binary_tree}[nothing, nothing]), Binary_tree(57, Binary_tree(#= circular reference @-3 =#), density_prob(1.0, ComplexF64[0.0 + 0.0im 0.0 + 0.0im 0.0 + 0.0im 0.0 + 0.0im; 0.0 + 0.0im 0.0 + 0.0im 0.0 + 0.0im 0.0 + 0.0im; 0.0 + 0.0im 0.0 + 0.0im 1.0 + 0.0im 0.0 + 0.0im; 0.0 + 0.0im 0.0 + 0.0im 0.0 + 0.0im 0.0 + 0.0im], 1.0), Union{Nothing, Binary_tree}[nothing, nothing])]), Binary_tree(29, Binary_tree(#= circular reference @-3 =#), density_prob(0.5, ComplexF64[1.0 + 0.0im 0.0 + 0.0im 0.0 + 0.0im 0.0 + 0.0im; 0.0 + 0.0im 0.0 + 0.0im 0.0 + 0.0im 0.0 + 0.0im; 0.0 + 0.0im 0.0 + 0.0im 0.0 + 0.0im 0.0 + 0.0im; 0.0 + 0.0im 0.0 + 0.0im 0.0 + 0.0im 0.0 + 0.0im], 1.0), Union{Nothing, Binary_tree}[Binary_tree(58, Binary_tree(#= circular reference @-3 =#), density_prob(0.0, ComplexF64[0.0 + 0.0im 0.0 + 0.0im 0.0 + 0.0im 0.0 + 0.0im; 0.0 + 0.0im 0.0 + 0.0im 0.0 + 0.0im 0.0 + 0.0im; 0.0 + 0.0im 0.0 + 0.0im 0.0 + 0.0im 0.0 + 0.0im; 0.0 + 0.0im 0.0 + 0.0im 0.0 + 0.0im 0.0 + 0.0im], 0.0), Union{Nothing, Binary_tree}[nothing, nothing]), Binary_tree(59, Binary_tree(#= circular reference @-3 =#), density_prob(1.0, ComplexF64[1.0 + 0.0im 0.0 + 0.0im 0.0 + 0.0im 0.0 + 0.0im; 0.0 + 0.0im 0.0 + 0.0im 0.0 + 0.0im 0.0 + 0.0im; 0.0 + 0.0im 0.0 + 0.0im 0.0 + 0.0im 0.0 + 0.0im; 0.0 + 0.0im 0.0 + 0.0im 0.0 + 0.0im 0.0 + 0.0im], 1.0), Union{Nothing, Binary_tree}[nothing, nothing])])]), Binary_tree(15, Binary_tree(#= circular reference @-3 =#), density_prob(0.0, ComplexF64[0.5 + 0.0im 0.0 + 0.0im 0.5 + 0.0im 0.0 + 0.0im; 0.0 + 0.0im 0.0 + 0.0im 0.0 + 0.0im 0.0 + 0.0im; 0.5 + 0.0im 0.0 + 0.0im 0.5 + 0.0im 0.0 + 0.0im; 0.0 + 0.0im 0.0 + 0.0im 0.0 + 0.0im 0.0 + 0.0im], 0.0), Union{Nothing, Binary_tree}[Binary_tree(30, Binary_tree(#= circular reference @-3 =#), density_prob(0.5, ComplexF64[0.0 + 0.0im 0.0 + 0.0im 0.0 + 0.0im 0.0 + 0.0im; 0.0 + 0.0im 0.0 + 0.0im 0.0 + 0.0im 0.0 + 0.0im; 0.0 + 0.0im 0.0 + 0.0im 1.0 + 0.0im 0.0 + 0.0im; 0.0 + 0.0im 0.0 + 0.0im 0.0 + 0.0im 0.0 + 0.0im], -1.0), Union{Nothing, Binary_tree}[Binary_tree(60, Binary_tree(#= circular reference @-3 =#), density_prob(0.0, ComplexF64[0.0 + 0.0im 0.0 + 0.0im 0.0 + 0.0im 0.0 + 0.0im; 0.0 + 0.0im 0.0 + 0.0im 0.0 + 0.0im 0.0 + 0.0im; 0.0 + 0.0im 0.0 + 0.0im 0.0 + 0.0im 0.0 + 0.0im; 0.0 + 0.0im 0.0 + 0.0im 0.0 + 0.0im 0.0 + 0.0im], 0.0), Union{Nothing, Binary_tree}[nothing, nothing]), Binary_tree(61, Binary_tree(#= circular reference @-3 =#), density_prob(1.0, ComplexF64[0.0 + 0.0im 0.0 + 0.0im 0.0 + 0.0im 0.0 + 0.0im; 0.0 + 0.0im 0.0 + 0.0im 0.0 + 0.0im 0.0 + 0.0im; 0.0 + 0.0im 0.0 + 0.0im 1.0 + 0.0im 0.0 + 0.0im; 0.0 + 0.0im 0.0 + 0.0im 0.0 + 0.0im 0.0 + 0.0im], 1.0), Union{Nothing, Binary_tree}[nothing, nothing])]), Binary_tree(31, Binary_tree(#= circular reference @-3 =#), density_prob(0.5, ComplexF64[1.0 + 0.0im 0.0 + 0.0im 0.0 + 0.0im 0.0 + 0.0im; 0.0 + 0.0im 0.0 + 0.0im 0.0 + 0.0im 0.0 + 0.0im; 0.0 + 0.0im 0.0 + 0.0im 0.0 + 0.0im 0.0 + 0.0im; 0.0 + 0.0im 0.0 + 0.0im 0.0 + 0.0im 0.0 + 0.0im], 1.0), Union{Nothing, Binary_tree}[Binary_tree(62, Binary_tree(#= circular reference @-3 =#), density_prob(0.0, ComplexF64[0.0 + 0.0im 0.0 + 0.0im 0.0 + 0.0im 0.0 + 0.0im; 0.0 + 0.0im 0.0 + 0.0im 0.0 + 0.0im 0.0 + 0.0im; 0.0 + 0.0im 0.0 + 0.0im 0.0 + 0.0im 0.0 + 0.0im; 0.0 + 0.0im 0.0 + 0.0im 0.0 + 0.0im 0.0 + 0.0im], 0.0), Union{Nothing, Binary_tree}[nothing, nothing]), Binary_tree(63, Binary_tree(#= circular reference @-3 =#), density_prob(1.0, ComplexF64[1.0 + 0.0im 0.0 + 0.0im 0.0 + 0.0im 0.0 + 0.0im; 0.0 + 0.0im 0.0 + 0.0im 0.0 + 0.0im 0.0 + 0.0im; 0.0 + 0.0im 0.0 + 0.0im 0.0 + 0.0im 0.0 + 0.0im; 0.0 + 0.0im 0.0 + 0.0im 0.0 + 0.0im 0.0 + 0.0im], 1.0), Union{Nothing, Binary_tree}[nothing, nothing])])])])])])"
      ]
     },
     "metadata": {},
     "output_type": "display_data"
    }
   ],
   "source": [
    "sm = create_tree(Circuit,density_matrix(States[1]) ,dummyBinary_tree())"
   ]
  },
  {
   "cell_type": "code",
   "execution_count": 24,
   "metadata": {},
   "outputs": [],
   "source": [
    "trimming!(sm)"
   ]
  },
  {
   "cell_type": "code",
   "execution_count": 31,
   "metadata": {},
   "outputs": [
    {
     "data": {
      "text/plain": [
       "4-element Vector{Float64}:\n",
       " -1.0\n",
       "  1.0\n",
       " -1.0\n",
       "  1.0"
      ]
     },
     "metadata": {},
     "output_type": "display_data"
    }
   ],
   "source": [
    "measures(sm)"
   ]
  },
  {
   "cell_type": "code",
   "execution_count": null,
   "metadata": {},
   "outputs": [],
   "source": [
    "function doall_rotations(chanl,rotations, n, word)\n",
    "    Vectors = [[1,0,0,0],[0,1,0,0],[0,0,1,0],[0,0,0,1],\n",
    "            [1,1,0,0],[1,0,1,0],[1,0,0,1],[0,1,1,0],[0,1,0,1],[0,0,1,1],\n",
    "            [1,1,1,0],[1,1,0,1],[1,0,1,1],[0,1,1,1],[1,1,1,1]]\n",
    "    States = [state_vector(i./sqrt(sum(i)), \"Z\") for i in Vectors];\n",
    "    df = DataFrame()\n",
    "    chann = gates[chanl]\n",
    "    file = \"/home/users/ciolli/Desktop/Code/Rotations/ch-$(chanl)_$(word).csv\"\n",
    "    if size(chann)[1] == 4\n",
    "        ch = channel(chann, \"Z\")\n",
    "    elseif size(chann)[1] == 2\n",
    "        ch = channel(kron(chann, Matrix(I, 2, 2)), \"Z\")\n",
    "    end\n",
    "    mB = pauli_proj_meas[\"Mz\"][\"B\"]\n",
    "    i = 0\n",
    "    for state in States\n",
    "        i += 1\n",
    "        J = []\n",
    "        for mA in rotations\n",
    "            Circuit = [mA, mB, ch, mA, mB];\n",
    "            Qt = QT_Dynamical_model([[mA.value[1],mA.value[2]]],[[mB.value[1],mB.value[2]]],state, Circuit)\n",
    "            Source, Target = simulation(Qt, n)\n",
    "            T = Time_Series(n, [Qt.x;Qt.x], [Qt.y;Qt.y], Target, Source, Qt)\n",
    "            push!(J, TE(2, 1, 1 ,T, Freq)[1].value)\n",
    "        end\n",
    "        df[:, string(Vectors[i])] = J\n",
    "    end\n",
    "\n",
    "    CSV.write(file, df);\n",
    "    return\n",
    "end"
   ]
  },
  {
   "cell_type": "code",
   "execution_count": null,
   "metadata": {},
   "outputs": [],
   "source": [
    "nmeas = 30\n",
    "rotations = [measure(operator(rot(σy,σz, -(i/nmeas)*π/2), \"Z\"), 1, 2) for i in 0:nmeas]\n",
    "channe = \"Swap\"\n",
    "n = 100000;\n",
    "i = 0\n",
    "for (key, value) in rotaz\n",
    "    i += 1\n",
    "    doall_rotations(channe, value, n, key);\n",
    "    println(i)\n",
    "end"
   ]
  }
 ],
 "metadata": {
  "kernelspec": {
   "display_name": "Julia 1.9.4",
   "language": "julia",
   "name": "julia-1.9"
  },
  "language_info": {
   "file_extension": ".jl",
   "mimetype": "application/julia",
   "name": "julia",
   "version": "1.9.4"
  }
 },
 "nbformat": 4,
 "nbformat_minor": 2
}
