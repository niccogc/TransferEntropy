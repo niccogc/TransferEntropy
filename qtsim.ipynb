{
 "cells": [
  {
   "cell_type": "code",
   "execution_count": 38,
   "metadata": {},
   "outputs": [],
   "source": [
    "using LinearAlgebra\n",
    "using DataFrames\n",
    "using CSV\n",
    "using Plots\n",
    "include(\"structs.jl\")\n",
    "include(\"trees.jl\")\n",
    "include(\"sourceQt.jl\")\n",
    "include(\"sourceCl.jl\");"
   ]
  },
  {
   "cell_type": "code",
   "execution_count": 2,
   "metadata": {},
   "outputs": [
    {
     "data": {
      "text/plain": [
       "do_all_paulimeasurement (generic function with 1 method)"
      ]
     },
     "metadata": {},
     "output_type": "display_data"
    }
   ],
   "source": [
    "function do_all_paulimeasurement(ms, chann, qt)\n",
    "    Vectors = [[1,0,0,0],[0,1,0,0],[0,0,1,0],[0,0,0,1],\n",
    "            [1,1,0,0],[1,0,1,0],[1,0,0,1],[0,1,1,0],[0,1,0,1],[0,0,1,1],\n",
    "            [1,1,1,0],[1,1,0,1],[1,0,1,1],[0,1,1,1],[1,1,1,1]]\n",
    "    States = [state_vector(i./sqrt(sum(i)), \"Z\") for i in Vectors];\n",
    "    Measures = [pauli_proj_meas[i][j] for (i,j) in zip(ms, qt)]\n",
    "    ch = channel(kron(gates[chann], Matrix(I, 2, 2)), \"Z\")\n",
    "    n = 100000\n",
    "    file = \"/home/users/ciolli/Desktop/Code/Rotations/ch-$(chann)_measurement-$(ms[1])$(qt[1])_$(ms[2])$(qt[2])_$(ms[3])$(qt[3])_$(ms[4])$(qt[4]).csv\"\n",
    "    df = DataFrame()\n",
    "    df.θ = Float64[]\n",
    "    df.Initial_State = [];\n",
    "\n",
    "    for state in States\n",
    "        Qt = QT_Dynamical_model([[-1,1]],[[-1,1]],state, ch, Measures)\n",
    "        Source, Target = simulation(Qt, n) \n",
    "        T = Time_Series(n, [Qt.x;Qt.x], [Qt.y;Qt.y], Target, Source, Qt)\n",
    "        push!(df.TE, TE(2, 1, 1 ,T, Freq)[1].value)\n",
    "        push!(df.Initial_State, state.vec)\n",
    "    end\n",
    "    \n",
    "    CSV.write(file, df);\n",
    "end"
   ]
  },
  {
   "cell_type": "code",
   "execution_count": 33,
   "metadata": {},
   "outputs": [
    {
     "data": {
      "text/plain": [
       "doall_rotations (generic function with 1 method)"
      ]
     },
     "metadata": {},
     "output_type": "display_data"
    }
   ],
   "source": [
    "function doall_rotations(chanl,rotations, n, word)\n",
    "    Vectors = [[1,0,0,0],[0,1,0,0],[0,0,1,0],[0,0,0,1],\n",
    "            [1,1,0,0],[1,0,1,0],[1,0,0,1],[0,1,1,0],[0,1,0,1],[0,0,1,1],\n",
    "            [1,1,1,0],[1,1,0,1],[1,0,1,1],[0,1,1,1],[1,1,1,1]]\n",
    "    States = [state_vector(i./sqrt(sum(i)), \"Z\") for i in Vectors];\n",
    "    df = DataFrame()\n",
    "    chann = gates[chanl]\n",
    "    file = \"/home/users/ciolli/Desktop/Code/Rotations/A_to_B_Brot_ch-$(chanl)_$(word).csv\"\n",
    "    if size(chann)[1] == 4\n",
    "        ch = channel(chann, \"Z\")\n",
    "    elseif size(chann)[1] == 2\n",
    "        ch = channel(kron(chann, Matrix(I, 2, 2)), \"Z\")\n",
    "    end\n",
    "    mA = pauli_proj_meas[\"Mz\"][\"A\"]\n",
    "    i = 0\n",
    "    for state in States\n",
    "        i += 1\n",
    "        J = []\n",
    "        for mB in rotations\n",
    "            Circuit = [mA, mB, ch, mA, mB];\n",
    "            Qt = QT_Dynamical_model([[mA.value[1],mA.value[2]]],[[mB.value[1],mB.value[2]]],state, Circuit)\n",
    "            First, Second = simulation(Qt, n) #return series for A and B\n",
    "            Target = Second\n",
    "            Source = First\n",
    "            T = Time_Series(n, [Qt.x;Qt.x], [Qt.y;Qt.y], Target, Source, Qt)\n",
    "            push!(J, TE(2, 1, 1 ,T, Freq)[1].value)\n",
    "        end\n",
    "        df[:, string(Vectors[i])] = J\n",
    "    end\n",
    "\n",
    "    CSV.write(file, df);\n",
    "    return\n",
    "end"
   ]
  },
  {
   "cell_type": "code",
   "execution_count": 5,
   "metadata": {},
   "outputs": [
    {
     "data": {
      "text/plain": [
       "noisy_simulation (generic function with 2 methods)"
      ]
     },
     "metadata": {},
     "output_type": "display_data"
    }
   ],
   "source": [
    "function noisy_simulation(chanl, measurements, states, n, nsim)\n",
    "    if isempty(states)\n",
    "        states = [[1,0,0,0],[0,1,0,0],[0,0,1,0],[0,0,0,1],\n",
    "        [1,1,0,0],[1,0,1,0],[1,0,0,1],[0,1,1,0],[0,1,0,1],[0,0,1,1],\n",
    "        [1,1,1,0],[1,1,0,1],[1,0,1,1],[0,1,1,1],[1,1,1,1]]\n",
    "    end\n",
    "    States = [state_vector(i./sqrt(sum(i)), \"Z\") for i in states];\n",
    "    df = DataFrame()\n",
    "    chann = gates[chanl]\n",
    "    file = \"/home/users/ciolli/Desktop/Code/Rotations/noisy_state_swap/A_to_B_ch-$(chanl).csv\"\n",
    "    if size(chann)[1] == 4\n",
    "        ch = channel(chann, \"Z\")\n",
    "    elseif size(chann)[1] == 2\n",
    "        ch = channel(kron(chann, Matrix(I, 2, 2)), \"Z\")\n",
    "    end\n",
    "    i=0\n",
    "    for state in States\n",
    "        i += 1\n",
    "        J = []\n",
    "        for noise in [i/n for i in 0:n]\n",
    "            Circuit = [measurements[1], measurements[2], ch, measurements[1], measurements[2]]\n",
    "            Qt = QT_Dynamical_model([[measurements[1].value[1],measurements[1].value[2]]],[[measurements[2].value[1],measurements[2].value[2]]],state, Circuit)\n",
    "            First, Second = noisy_simulation(Qt, nsim, noise) #return series for A and B\n",
    "            Source = First\n",
    "            Target = Second\n",
    "            T = Time_Series(n, [Qt.x;Qt.x], [Qt.y;Qt.y], Target, Source, Qt)\n",
    "            push!(J, TE(2, 1, 1 ,T, Freq)[1].value)\n",
    "        end\n",
    "        df[:, string(states[i])] = J\n",
    "    end\n",
    "\n",
    "    CSV.write(file, df);\n",
    "    return\n",
    "end"
   ]
  },
  {
   "cell_type": "code",
   "execution_count": 37,
   "metadata": {},
   "outputs": [
    {
     "name": "stdout",
     "output_type": "stream",
     "text": [
      "1\n"
     ]
    },
    {
     "name": "stdout",
     "output_type": "stream",
     "text": [
      "2\n"
     ]
    },
    {
     "name": "stdout",
     "output_type": "stream",
     "text": [
      "3\n"
     ]
    },
    {
     "name": "stdout",
     "output_type": "stream",
     "text": [
      "4\n"
     ]
    },
    {
     "name": "stdout",
     "output_type": "stream",
     "text": [
      "5\n"
     ]
    },
    {
     "name": "stdout",
     "output_type": "stream",
     "text": [
      "6\n"
     ]
    }
   ],
   "source": [
    "nmeas = 30\n",
    "\n",
    "channe = \"CNOT_AB\"\n",
    "n = 100000;\n",
    "i = 0\n",
    "for (key, value) in Dict_rot(nmeas, 2)\n",
    "    i += 1\n",
    "    doall_rotations(channe, value, n, key);\n",
    "    println(i)\n",
    "end"
   ]
  },
  {
   "cell_type": "code",
   "execution_count": 6,
   "metadata": {},
   "outputs": [],
   "source": [
    "n = 20\n",
    "\n",
    "channe = \"Swap\"\n",
    "nsim = 50000;\n",
    "ms = [pauli_proj_meas[\"Mz\"][\"A\"], pauli_proj_meas[\"Mz\"][\"B\"]]\n",
    "noisy_simulation(channe, ms, [], n, nsim)"
   ]
  },
  {
   "cell_type": "code",
   "execution_count": 17,
   "metadata": {},
   "outputs": [],
   "source": [
    "n = 100\n",
    "chann = \"CNOT_AB\"\n",
    "ch = channel(gates[chann], \"Z\")\n",
    "Vec = [[1,0,q,0] for q in [i/n for i in 0:n]]\n",
    "States = [state_vector(i./sqrt(sum(i)), \"Z\") for i in Vec];\n",
    "Circuit = [pauli_proj_meas[\"Mz\"][\"A\"], pauli_proj_meas[\"Mz\"][\"B\"], ch, pauli_proj_meas[\"Mz\"][\"A\"], pauli_proj_meas[\"Mz\"][\"B\"]]\n",
    "J = []\n",
    "for state in States\n",
    "    Qt = QT_Dynamical_model([[Circuit[1].value[1],Circuit[1].value[2]]],[[Circuit[2].value[1],Circuit[2].value[2]]],state, Circuit)\n",
    "    First, Second = simulation(Qt, 500000) #return series for A and B\n",
    "    Target = Second\n",
    "    Source = First\n",
    "    T = Time_Series(n, [Qt.x;Qt.x], [Qt.y;Qt.y], Target, Source, Qt)\n",
    "    push!(J, TE(2, 1, 1 ,T, Freq)[1].value)\n",
    "end\n",
    "CSV.write(\"/home/users/ciolli/Desktop/Code/QtTEdata/Cont_state/$(chann).csv\", DataFrame(TE = J));\n"
   ]
  },
  {
   "cell_type": "code",
   "execution_count": 24,
   "metadata": {},
   "outputs": [
    {
     "data": {
      "text/plain": [
       "4×4 Matrix{Int64}:\n",
       " 1  0  0  0\n",
       " 0  1  0  0\n",
       " 0  0  0  1\n",
       " 0  0  1  0"
      ]
     },
     "metadata": {},
     "output_type": "display_data"
    }
   ],
   "source": [
    "α = (0,0).*(π/2)\n",
    "βone = (0,0).*(π/2)\n",
    "βtwo = (0,0).*(π/2)\n",
    "vec = [1,0,0,1]./sqrt(2)\n",
    "ρ = vec*vec'\n",
    "ch = gates[\"CNOT_AB\"]"
   ]
  },
  {
   "cell_type": "code",
   "execution_count": 52,
   "metadata": {},
   "outputs": [
    {
     "data": {
      "text/plain": [
       "0.0"
      ]
     },
     "metadata": {},
     "output_type": "display_data"
    }
   ],
   "source": [
    "qtTEan(α, βone, βtwo, ρ, ch)"
   ]
  },
  {
   "cell_type": "code",
   "execution_count": 39,
   "metadata": {},
   "outputs": [],
   "source": [
    "α = (0,0).*(π/2)\n",
    "βone = (0,0).*(π/2)\n",
    "βtwo = (0,0).*(π/2)\n",
    "vec = [1,0,0,1]./sqrt(2)\n",
    "ρ = vec*vec'\n",
    "ch = gates[\"CNOT_AB\"]\n",
    "range = 0:0.1:1\n",
    "a = [qtTEan((i,j).*(π/2),(k,l).*(π/2),(m,n).*(π/2), ρ, ch) for i in range, j in range, k in range, l in range, m in range, n in range];"
   ]
  },
  {
   "cell_type": "code",
   "execution_count": 32,
   "metadata": {},
   "outputs": [
    {
     "data": {
      "text/plain": [
       "0.0"
      ]
     },
     "metadata": {},
     "output_type": "display_data"
    }
   ],
   "source": []
  },
  {
   "cell_type": "code",
   "execution_count": 73,
   "metadata": {},
   "outputs": [
    {
     "data": {
      "text/plain": [
       "4×4 Matrix{ComplexF64}:\n",
       " 0.5+0.0im  0.0-0.5im  0.0+0.0im  0.0-0.0im\n",
       " 0.0+0.5im  0.5+0.0im  0.0+0.0im  0.0+0.0im\n",
       " 0.0+0.0im  0.0-0.0im  0.5+0.0im  0.0-0.5im\n",
       " 0.0+0.0im  0.0+0.0im  0.0+0.5im  0.5+0.0im"
      ]
     },
     "metadata": {},
     "output_type": "display_data"
    }
   ],
   "source": [
    "α = (0,0).*(π/2)\n",
    "βone = (1,1).*(π/2)\n",
    "βtwo = (0,0).*(π/2)\n",
    "vec = [1,0,0,1]./sqrt(2)\n",
    "ρ = vec*vec'\n",
    "ch = gates[\"CNOT_AB\"]\n",
    "projector(βone..., 1, 2)"
   ]
  },
  {
   "cell_type": "code",
   "execution_count": 4,
   "metadata": {},
   "outputs": [
    {
     "data": {
      "text/plain": [
       "2-element Vector{Vector{ComplexF64}}:\n",
       " [0.0 - 0.7071067811865475im, -0.7071067811865475 + 0.0im]\n",
       " [0.0 - 0.7071067811865475im, 0.7071067811865475 + 0.0im]"
      ]
     },
     "metadata": {},
     "output_type": "display_data"
    }
   ],
   "source": [
    "σy.evec"
   ]
  },
  {
   "cell_type": "code",
   "execution_count": 7,
   "metadata": {},
   "outputs": [
    {
     "data": {
      "text/plain": [
       "4×4 Matrix{ComplexF64}:\n",
       "  0.5+0.0im  -0.5+0.0im   0.0+0.0im  -0.0+0.0im\n",
       " -0.5-0.0im   0.5+0.0im  -0.0-0.0im   0.0+0.0im\n",
       "  0.0+0.0im  -0.0+0.0im   0.5+0.0im  -0.5+0.0im\n",
       " -0.0-0.0im   0.0+0.0im  -0.5-0.0im   0.5+0.0im"
      ]
     },
     "metadata": {},
     "output_type": "display_data"
    }
   ],
   "source": [
    "pauli_proj_meas[\"Mx\"][\"B\"].proj[1]"
   ]
  }
 ],
 "metadata": {
  "kernelspec": {
   "display_name": "Julia 1.9.3",
   "language": "julia",
   "name": "julia-1.9"
  },
  "language_info": {
   "file_extension": ".jl",
   "mimetype": "application/julia",
   "name": "julia",
   "version": "1.9.3"
  }
 },
 "nbformat": 4,
 "nbformat_minor": 2
}
