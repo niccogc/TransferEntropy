{
 "cells": [
  {
   "cell_type": "code",
   "execution_count": 6,
   "metadata": {},
   "outputs": [],
   "source": [
    "using LinearAlgebra\n",
    "using DataFrames\n",
    "using CSV\n",
    "using Plots\n",
    "include(\"structs.jl\")\n",
    "include(\"trees.jl\")\n",
    "include(\"sourceQt.jl\")\n",
    "include(\"sourceCl.jl\");"
   ]
  },
  {
   "cell_type": "code",
   "execution_count": 2,
   "metadata": {},
   "outputs": [
    {
     "data": {
      "text/plain": [
       "do_all_paulimeasurement (generic function with 1 method)"
      ]
     },
     "metadata": {},
     "output_type": "display_data"
    }
   ],
   "source": [
    "function do_all_paulimeasurement(ms, chann, qt)\n",
    "    Vectors = [[1,0,0,0],[0,1,0,0],[0,0,1,0],[0,0,0,1],\n",
    "            [1,1,0,0],[1,0,1,0],[1,0,0,1],[0,1,1,0],[0,1,0,1],[0,0,1,1],\n",
    "            [1,1,1,0],[1,1,0,1],[1,0,1,1],[0,1,1,1],[1,1,1,1]]\n",
    "    States = [state_vector(i./sqrt(sum(i)), \"Z\") for i in Vectors];\n",
    "    Measures = [pauli_proj_meas[i][j] for (i,j) in zip(ms, qt)]\n",
    "    ch = channel(kron(gates[chann], Matrix(I, 2, 2)), \"Z\")\n",
    "    n = 100000\n",
    "    file = \"/home/users/ciolli/Desktop/Code/Rotations/ch-$(chann)_measurement-$(ms[1])$(qt[1])_$(ms[2])$(qt[2])_$(ms[3])$(qt[3])_$(ms[4])$(qt[4]).csv\"\n",
    "    df = DataFrame()\n",
    "    df.θ = Float64[]\n",
    "    df.Initial_State = [];\n",
    "\n",
    "    for state in States\n",
    "        Qt = QT_Dynamical_model([[-1,1]],[[-1,1]],state, ch, Measures)\n",
    "        Source, Target = simulation(Qt, n) \n",
    "        T = Time_Series(n, [Qt.x;Qt.x], [Qt.y;Qt.y], Target, Source, Qt)\n",
    "        push!(df.TE, TE(2, 1, 1 ,T, Freq)[1].value)\n",
    "        push!(df.Initial_State, state.vec)\n",
    "    end\n",
    "    \n",
    "    CSV.write(file, df);\n",
    "end"
   ]
  },
  {
   "cell_type": "code",
   "execution_count": 10,
   "metadata": {},
   "outputs": [
    {
     "data": {
      "text/plain": [
       "doall_rotations (generic function with 1 method)"
      ]
     },
     "metadata": {},
     "output_type": "display_data"
    }
   ],
   "source": [
    "function doall_rotations(chanl,rotations, n, word)\n",
    "    Vectors = [[1,0,0,0],[0,1,0,0],[0,0,1,0],[0,0,0,1],\n",
    "            [1,1,0,0],[1,0,1,0],[1,0,0,1],[0,1,1,0],[0,1,0,1],[0,0,1,1],\n",
    "            [1,1,1,0],[1,1,0,1],[1,0,1,1],[0,1,1,1],[1,1,1,1]]\n",
    "    States = [state_vector(i./sqrt(sum(i)), \"Z\") for i in Vectors];\n",
    "    df = DataFrame()\n",
    "    chann = gates[chanl]\n",
    "    file = \"/home/users/ciolli/Desktop/Code/Rotations/swap/A_to_B_Arot_ch-$(chanl)_$(word).csv\"\n",
    "    if size(chann)[1] == 4\n",
    "        ch = channel(chann, \"Z\")\n",
    "    elseif size(chann)[1] == 2\n",
    "        ch = channel(kron(chann, Matrix(I, 2, 2)), \"Z\")\n",
    "    end\n",
    "    mB = pauli_proj_meas[\"Mz\"][\"B\"]\n",
    "    i = 0\n",
    "    for state in States\n",
    "        i += 1\n",
    "        J = []\n",
    "        for mA in rotations\n",
    "            Circuit = [mA, mB, ch, mA, mB];\n",
    "            Qt = QT_Dynamical_model([[mA.value[1],mA.value[2]]],[[mB.value[1],mB.value[2]]],state, Circuit)\n",
    "            First, Second = simulation(Qt, n) #return series for A and B\n",
    "            Target = Second\n",
    "            Source = First\n",
    "            T = Time_Series(n, [Qt.x;Qt.x], [Qt.y;Qt.y], Target, Source, Qt)\n",
    "            push!(J, TE(2, 1, 1 ,T, Freq)[1].value)\n",
    "        end\n",
    "        df[:, string(Vectors[i])] = J\n",
    "    end\n",
    "\n",
    "    CSV.write(file, df);\n",
    "    return\n",
    "end"
   ]
  },
  {
   "cell_type": "code",
   "execution_count": 11,
   "metadata": {},
   "outputs": [],
   "source": [
    "nmeas = 20\n",
    "\n",
    "channe = \"Swap\"\n",
    "n = 100000;\n",
    "i = 0\n",
    "for (key, value) in Dict_rot(nmeas, 1)\n",
    "    i += 1\n",
    "    doall_rotations(channe, value, n, key);\n",
    "    println(i)\n",
    "end"
   ]
  }
 ],
 "metadata": {
  "kernelspec": {
   "display_name": "Julia 1.9.4",
   "language": "julia",
   "name": "julia-1.9"
  },
  "language_info": {
   "file_extension": ".jl",
   "mimetype": "application/julia",
   "name": "julia",
   "version": "1.9.4"
  }
 },
 "nbformat": 4,
 "nbformat_minor": 2
}
